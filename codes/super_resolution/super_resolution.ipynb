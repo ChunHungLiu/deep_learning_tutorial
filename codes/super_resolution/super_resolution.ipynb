{
 "cells": [
  {
   "cell_type": "markdown",
   "metadata": {},
   "source": [
    "## 이미지 Super-resolution"
   ]
  },
  {
   "cell_type": "code",
   "execution_count": 1,
   "metadata": {},
   "outputs": [
    {
     "name": "stdout",
     "output_type": "stream",
     "text": [
      "Extracting data/MNIST/train-images-idx3-ubyte.gz\n",
      "Extracting data/MNIST/train-labels-idx1-ubyte.gz\n",
      "Extracting data/MNIST/t10k-images-idx3-ubyte.gz\n",
      "Extracting data/MNIST/t10k-labels-idx1-ubyte.gz\n"
     ]
    }
   ],
   "source": [
    "%matplotlib inline\n",
    "import numpy as np\n",
    "import scipy.misc as misc\n",
    "import matplotlib.pyplot as plt\n",
    "import tensorflow as tf\n",
    "import tensorflow.contrib.slim as slim\n",
    "\n",
    "# TensorFlow 내장 MNIST 데이터셋 모듈\n",
    "from tensorflow.examples.tutorials.mnist import input_data\n",
    "mnist = input_data.read_data_sets(\"data/MNIST\", one_hot=True)"
   ]
  },
  {
   "cell_type": "code",
   "execution_count": 2,
   "metadata": {
    "collapsed": true
   },
   "outputs": [],
   "source": [
    "def batch_norm_params(is_training):\n",
    "    return {\n",
    "        \"decay\": 0.9,\n",
    "        \"epsilon\": 1e-5,\n",
    "        \"scale\": True,\n",
    "        \"updates_collections\": None,\n",
    "        \"is_training\": is_training\n",
    "    }\n",
    "\n",
    "\n",
    "def arg_scope(is_training):\n",
    "    with slim.arg_scope([slim.conv2d],\n",
    "        weights_initializer=slim.variance_scaling_initializer(),\n",
    "        activation_fn=tf.nn.relu,\n",
    "        normalizer_fn=slim.batch_norm,\n",
    "        normalizer_params=batch_norm_params(is_training),\n",
    "        stride=1, padding=\"SAME\"):\n",
    "        with slim.arg_scope([slim.batch_norm],\n",
    "                            **batch_norm_params(is_training)) as arg_scp:\n",
    "            return arg_scp\n",
    "\n",
    "\n",
    "def srnet(inputs, scope=\"srnet\"):\n",
    "    net = inputs\n",
    "    with tf.variable_scope(scope) as scp:\n",
    "        end_pts_collection = scp.name+\"end_pts\"\n",
    "        with slim.arg_scope([slim.conv2d],\n",
    "                            outputs_collections=end_pts_collection):\n",
    "            net = slim.conv2d(net, 64, [3, 3],\n",
    "                              normalizer_fn=None,\n",
    "                              normalizer_params=None,\n",
    "                              scope=\"conv1\")\n",
    "\n",
    "            net = slim.conv2d(net, 64, [3, 3], scope=\"conv2\")\n",
    "            net = slim.conv2d(net, 64, [3, 3], scope=\"conv3\")\n",
    "            net = tf.image.resize_images(net, (14, 14))\n",
    "            \n",
    "            net = slim.conv2d(net, 64, [3, 3], scope=\"conv4\")\n",
    "            net = slim.conv2d(net, 64, [3, 3], scope=\"conv5\")\n",
    "            net = tf.image.resize_images(net, (28, 28))\n",
    "            \n",
    "            net = slim.conv2d(net, 64, [3, 3], scope=\"conv6\")\n",
    "            net = slim.conv2d(net, 1, [3, 3],\n",
    "                              activation_fn=tf.nn.tanh,\n",
    "                              normalizer_fn=None,\n",
    "                              normalizer_params=None,\n",
    "                              scope=\"logit\")\n",
    "\n",
    "            end_pts = slim.utils.convert_collection_to_dict(end_pts_collection)\n",
    "\n",
    "    return net, end_pts"
   ]
  },
  {
   "cell_type": "code",
   "execution_count": 3,
   "metadata": {},
   "outputs": [],
   "source": [
    "inputs = tf.placeholder(tf.float32, [None, 28, 28, 1])\n",
    "labels = tf.placeholder(tf.float32, [None, 28, 28, 1])\n",
    "is_training = tf.placeholder(tf.bool)\n",
    "\n",
    "with slim.arg_scope(arg_scope(is_training)):\n",
    "    logits, model = srnet(inputs)"
   ]
  },
  {
   "cell_type": "code",
   "execution_count": 5,
   "metadata": {},
   "outputs": [
    {
     "name": "stdout",
     "output_type": "stream",
     "text": [
      "500 0.0131134\n",
      "1000 0.00906561\n",
      "1500 0.00741855\n",
      "2000 0.00682632\n",
      "2500 0.00687231\n",
      "3000 0.00674399\n",
      "3500 0.00677437\n",
      "4000 0.00557121\n",
      "4500 0.00554275\n",
      "5000 0.00585473\n"
     ]
    }
   ],
   "source": [
    "learning_rate = 0.01\n",
    "\n",
    "loss_op = tf.losses.mean_squared_error(labels, logits)\n",
    "opt = tf.train.AdamOptimizer(learning_rate).minimize(loss_op)\n",
    "\n",
    "sess_config = tf.ConfigProto(gpu_options=tf.GPUOptions(allow_growth=True))\n",
    "sess = tf.Session(config=sess_config)\n",
    "sess.run(tf.global_variables_initializer())\n",
    "\n",
    "for step in range(5000):\n",
    "    high_res, _ = mnist.train.next_batch(128)\n",
    "    \n",
    "    # 이미지 전처리 및 저해상도 변환\n",
    "    high_res = high_res.reshape((-1, 28, 28))\n",
    "    \n",
    "    low_res = np.empty((high_res.shape[0], 28, 28))\n",
    "    for i, image in enumerate(high_res):\n",
    "        # 저해상도로 변환 뒤 원본과 크기 맞추는 과정\n",
    "        low = misc.imresize(image, (7, 7)) / 255.0\n",
    "        low_res[i] = misc.imresize(low, (28, 28)) / 255.0\n",
    "        \n",
    "    # [H, W, C] -> [N, H, W, C]\n",
    "    high_res = high_res.reshape((-1, 28, 28, 1))\n",
    "    low_res  = low_res.reshape((-1, 28, 28, 1))\n",
    "        \n",
    "    _, loss = sess.run([opt, loss_op], feed_dict={inputs: low_res, labels: high_res, is_training: True})\n",
    "    \n",
    "    if (step+1) % 500 == 0:\n",
    "        print(step+1, loss)"
   ]
  },
  {
   "cell_type": "markdown",
   "metadata": {},
   "source": [
    "### 테스트"
   ]
  },
  {
   "cell_type": "code",
   "execution_count": 6,
   "metadata": {},
   "outputs": [],
   "source": [
    "test_high = mnist.test.images[:5].reshape(-1, 28, 28)\n",
    "test_low  = np.empty((test_high.shape[0], 28, 28))\n",
    "for i, image in enumerate(test_high):\n",
    "    low = misc.imresize(image, (7, 7)) / 255.0\n",
    "    test_low[i] = misc.imresize(low, (28, 28)) / 255.0\n",
    "    \n",
    "# [H, W, C] -> [N, H, W, C]\n",
    "test_high  = test_high.reshape((-1, 28, 28, 1))\n",
    "test_low   = test_low.reshape((-1, 28, 28, 1))    \n",
    "test_super = sess.run(logits, feed_dict={inputs:test_low, is_training:False})"
   ]
  },
  {
   "cell_type": "code",
   "execution_count": 7,
   "metadata": {},
   "outputs": [
    {
     "data": {
      "image/png": "[encoded data removed]",
      "text/plain": [
       "<matplotlib.figure.Figure at 0x7feae325e1d0>"
      ]
     },
     "metadata": {},
     "output_type": "display_data"
    },
    {
     "data": {
      "image/png": "[encoded data removed]",
      "text/plain": [
       "<matplotlib.figure.Figure at 0x7fead40918d0>"
      ]
     },
     "metadata": {},
     "output_type": "display_data"
    },
    {
     "data": {
      "image/png": "[encoded data removed]",
      "text/plain": [
       "<matplotlib.figure.Figure at 0x7feabbfafbe0>"
      ]
     },
     "metadata": {},
     "output_type": "display_data"
    },
    {
     "data": {
      "image/png": "[encoded data removed]",
      "text/plain": [
       "<matplotlib.figure.Figure at 0x7feabbebe0f0>"
      ]
     },
     "metadata": {},
     "output_type": "display_data"
    },
    {
     "data": {
      "image/png": "[encoded data removed]",
      "text/plain": [
       "<matplotlib.figure.Figure at 0x7feabbdab4a8>"
      ]
     },
     "metadata": {},
     "output_type": "display_data"
    }
   ],
   "source": [
    "test_high  = test_high.reshape((-1, 28, 28))\n",
    "test_low   = test_low.reshape((-1, 28, 28))\n",
    "test_super = test_super.reshape((-1, 28, 28))\n",
    "\n",
    "for i, (low, high, sup) in enumerate(zip(test_low, test_high, test_super)):\n",
    "    fig = plt.figure()\n",
    "    a = fig.add_subplot(1, 3, 1)\n",
    "    a.axis(\"off\")\n",
    "    a.set_title(\"Low resolution\")\n",
    "    plt.imshow(low, cmap=\"gray\")\n",
    "    \n",
    "    a = fig.add_subplot(1, 3, 2)\n",
    "    a.axis(\"off\")\n",
    "    a.set_title(\"High resolution\")\n",
    "    plt.imshow(high, cmap=\"gray\")\n",
    "    \n",
    "    a = fig.add_subplot(1, 3, 3)\n",
    "    a.axis(\"off\")\n",
    "    a.set_title(\"Super resolution\")\n",
    "    plt.imshow(sup, cmap=\"gray\")"
   ]
  },
  {
   "cell_type": "code",
   "execution_count": null,
   "metadata": {
    "collapsed": true
   },
   "outputs": [],
   "source": []
  }
 ],
 "metadata": {
  "kernelspec": {
   "display_name": "Python 3",
   "language": "python",
   "name": "python3"
  },
  "language_info": {
   "codemirror_mode": {
    "name": "ipython",
    "version": 3
   },
   "file_extension": ".py",
   "mimetype": "text/x-python",
   "name": "python",
   "nbconvert_exporter": "python",
   "pygments_lexer": "ipython3",
   "version": "3.5.3"
  }
 },
 "nbformat": 4,
 "nbformat_minor": 2
}
