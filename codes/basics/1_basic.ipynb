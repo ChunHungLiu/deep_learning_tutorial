{
 "cells": [
  {
   "cell_type": "code",
   "execution_count": null,
   "metadata": {
    "collapsed": true
   },
   "outputs": [],
   "source": [
    "import numpy as np\n",
    "import tensorflow as tf\n",
    "print(tf.__version__)"
   ]
  },
  {
   "cell_type": "markdown",
   "metadata": {},
   "source": [
    "## TensorFlow config (optional)\n",
    "TensorFlow는 디폴트 설정에 의해 GPU 메모리를 모두 점유하기 때문에 다수가 접속하는 서버에서는 아래와 같은 설정을 통해 이를 방지하도록 합니다."
   ]
  },
  {
   "cell_type": "code",
   "execution_count": null,
   "metadata": {
    "collapsed": true
   },
   "outputs": [],
   "source": [
    "sess_config = tf.ConfigProto(gpu_options=tf.GPUOptions(allow_growth=True))"
   ]
  },
  {
   "cell_type": "markdown",
   "metadata": {},
   "source": [
    "## TensorFlow 세션"
   ]
  },
  {
   "cell_type": "code",
   "execution_count": null,
   "metadata": {
    "collapsed": true
   },
   "outputs": [],
   "source": [
    "sess = tf.Session(config=sess_config)\n",
    "\n",
    "a = tf.ones((2, 2))\n",
    "b = tf.reduce_sum(a, axis=1)\n",
    "c = tf.reshape(a, (1, 4))\n",
    "\n",
    "print(a)\n",
    "print(sess.run(a))\n",
    "print(sess.run(b))\n",
    "print(sess.run(c))\n",
    "\n",
    "sess.close()"
   ]
  },
  {
   "cell_type": "code",
   "execution_count": null,
   "metadata": {
    "collapsed": true
   },
   "outputs": [],
   "source": [
    "a = tf.constant([[5, 6]])\n",
    "b = tf.constant([[5], [6]])\n",
    "c = a*b\n",
    "\n",
    "with tf.Session(config=sess_config) as sess:\n",
    "    print(sess.run(a))\n",
    "    print(sess.run(b))\n",
    "    print(sess.run(c))"
   ]
  },
  {
   "cell_type": "markdown",
   "metadata": {},
   "source": [
    "## TensorFlow 변수"
   ]
  },
  {
   "cell_type": "code",
   "execution_count": null,
   "metadata": {
    "collapsed": true
   },
   "outputs": [],
   "source": [
    "w1 = tf.Variable(tf.random_normal([5, 2], stddev=0.1))\n",
    "w2 = tf.Variable([[3, 2, 3], [1, 2, 3]])\n",
    "\n",
    "with tf.Session(config=sess_config) as sess:\n",
    "    sess.run(tf.global_variables_initializer())\n",
    "    w1_fetch, w2_fetch = sess.run([w1, w2])\n",
    "    print(w1_fetch)\n",
    "    print(w2_fetch)"
   ]
  },
  {
   "cell_type": "code",
   "execution_count": null,
   "metadata": {
    "collapsed": true
   },
   "outputs": [],
   "source": [
    "state = tf.Variable(0, name=\"counter\")\n",
    "new_value = tf.add(state, tf.constant(1))\n",
    "update = tf.assign(state, new_value)\n",
    "\n",
    "with tf.Session() as sess:\n",
    "    sess.run(tf.global_variables_initializer())\n",
    "    print(\"inital: \", sess.run(state))\n",
    "    for i in range(3):\n",
    "        sess.run(update)\n",
    "        print(\"update {}: \".format(i), sess.run(state))"
   ]
  },
  {
   "cell_type": "markdown",
   "metadata": {},
   "source": [
    "## TensorFlow Placeholder"
   ]
  },
  {
   "cell_type": "code",
   "execution_count": null,
   "metadata": {
    "collapsed": true
   },
   "outputs": [],
   "source": [
    "a = tf.placeholder(tf.float32, name=\"a\")\n",
    "b = tf.placeholder(tf.float32, name=\"b\")\n",
    "\n",
    "print(a)\n",
    "print(b)\n",
    "\n",
    "add = a+b\n",
    "mul = a*b\n",
    "\n",
    "with tf.Session() as sess:\n",
    "    print(sess.run(add, feed_dict={a: 2, b: 3}))\n",
    "    print(sess.run(mul, feed_dict={a: 4, b: 5}))"
   ]
  },
  {
   "cell_type": "code",
   "execution_count": null,
   "metadata": {
    "collapsed": true
   },
   "outputs": [],
   "source": [
    "matrix1 = tf.placeholder(tf.float32, [2, 2])\n",
    "matrix2 = tf.placeholder(tf.float32, [2, 2])\n",
    "product = tf.matmul(matrix1, matrix2)\n",
    "\n",
    "with tf.Session() as sess:\n",
    "    mv1 = np.array([[3., 3.], [2., 2.]])\n",
    "    mv2 = np.array([[2., 1.], [2., 1.]])\n",
    "    result = sess.run(product, feed_dict={matrix1: mv1, matrix2: mv2})\n",
    "    print(mv1)\n",
    "    print(mv2)\n",
    "    print(result)"
   ]
  },
  {
   "cell_type": "markdown",
   "metadata": {
    "collapsed": true
   },
   "source": [
    "## 퍼셉트론으로 AND, OR 문제 풀기"
   ]
  },
  {
   "cell_type": "code",
   "execution_count": null,
   "metadata": {
    "collapsed": true
   },
   "outputs": [],
   "source": [
    "and_x = np.array([[0, 0], [0, 1], [1, 0], [1, 1]])\n",
    "and_y = np.array([0, 0, 0, 1])\n",
    "or_x  = np.array([[0, 0], [0, 1], [1, 0], [1, 1]])\n",
    "or_y  = np.array([0, 1, 1, 1])\n",
    "\n",
    "learning_rate = 0.1\n",
    "\n",
    "inputs = tf.placeholder(tf.float32, [None, 2])\n",
    "label  = tf.placeholder(tf.int64, [None])\n",
    "weight = tf.Variable(tf.random_normal([2, 2]))\n",
    "bias   = tf.Variable(tf.zeros([2]))\n",
    "\n",
    "logit = tf.matmul(inputs, weight) + bias\n",
    "pred_op = tf.nn.softmax(logit)\n",
    "\n",
    "loss_op = tf.reduce_mean(tf.nn.sparse_softmax_cross_entropy_with_logits(labels=label, logits=logit))\n",
    "opt = tf.train.GradientDescentOptimizer(learning_rate).minimize(loss_op)\n",
    "\n",
    "with tf.Session(config=sess_config) as sess:\n",
    "    sess.run(tf.global_variables_initializer())\n",
    "    \n",
    "    for step in range(500):\n",
    "        _, loss = sess.run([opt, loss_op], feed_dict={inputs:and_x, label:and_y})\n",
    "        if (step+1)%100 == 0:\n",
    "            pred = sess.run(pred_op, feed_dict={inputs:and_x, label:and_y})\n",
    "            print(\"step\", step+1, \"loss:\", loss, \"gt:\", and_y, \"predict:\", np.argmax(pred, axis=1))"
   ]
  },
  {
   "cell_type": "markdown",
   "metadata": {},
   "source": [
    "## 퍼셉트론으로 XOR 문제 풀기"
   ]
  },
  {
   "cell_type": "code",
   "execution_count": null,
   "metadata": {
    "collapsed": true
   },
   "outputs": [],
   "source": [
    "xor_x = np.array([[0, 0], [0, 1], [1, 0], [1, 1]])\n",
    "xor_y = np.array([0, 1, 1, 0])\n",
    "\n",
    "learning_rate = 0.1\n",
    "\n",
    "inputs = tf.placeholder(tf.float32, [None, 2])\n",
    "label  = tf.placeholder(tf.int64, [None])\n",
    "weight = tf.Variable(tf.random_normal([2, 2]))\n",
    "bias   = tf.Variable(tf.zeros([2]))\n",
    "\n",
    "logit = tf.matmul(inputs, weight) + bias\n",
    "pred_op = tf.nn.softmax(logit)\n",
    "\n",
    "loss_op = tf.reduce_mean(tf.nn.sparse_softmax_cross_entropy_with_logits(labels=label, logits=logit))\n",
    "opt = tf.train.GradientDescentOptimizer(learning_rate).minimize(loss_op)\n",
    "\n",
    "with tf.Session(config=sess_config) as sess:\n",
    "    sess.run(tf.global_variables_initializer())\n",
    "    \n",
    "    for step in range(10000):\n",
    "        _, loss = sess.run([opt, loss_op], feed_dict={inputs:xor_x, label:xor_y})\n",
    "        if (step+1)%1000 == 0:\n",
    "            pred = sess.run(pred_op, feed_dict={inputs:xor_x, label:xor_y})\n",
    "            print(\"step\", step+1, \"loss:\", loss, \"gt:\", xor_y, \"predict:\", np.argmax(pred, axis=1))"
   ]
  },
  {
   "cell_type": "markdown",
   "metadata": {},
   "source": [
    "## 멀티 레이어 퍼셉트론으로 XOR 문제 풀기"
   ]
  },
  {
   "cell_type": "code",
   "execution_count": null,
   "metadata": {
    "collapsed": true
   },
   "outputs": [],
   "source": [
    "xor_x = np.array([[0, 0], [0, 1], [1, 0], [1, 1]])\n",
    "xor_y = np.array([1, 0, 0, 1])\n",
    "\n",
    "learning_rate = 0.1\n",
    "\n",
    "inputs = tf.placeholder(tf.float32, [None, 2])\n",
    "label  = tf.placeholder(tf.int64, [None])\n",
    "\n",
    "# tf 변수 선언\n",
    "W1 = tf.Variable(tf.random_normal([2, 2]))\n",
    "b1 = tf.Variable(tf.zeros([2]))\n",
    "W2 = tf.Variable(tf.random_normal([2, 2]))\n",
    "b2 = tf.Variable(tf.zeros([2]))\n",
    "\n",
    "layer1 = tf.matmul(inputs, W1) + b1 # 레이어 1\n",
    "layer1 = tf.sigmoid(layer1)\n",
    "logit = tf.matmul(layer1, W2) + b2 # 레이어 2 (출력 레이어)\n",
    "pred_op = tf.nn.softmax(logit)\n",
    "\n",
    "loss_op = tf.reduce_mean(tf.nn.sparse_softmax_cross_entropy_with_logits(labels=label, logits=logit))\n",
    "opt = tf.train.GradientDescentOptimizer(learning_rate).minimize(loss_op)\n",
    "\n",
    "with tf.Session(config=sess_config) as sess:\n",
    "    sess.run(tf.global_variables_initializer())\n",
    "    \n",
    "    for step in range(10000):\n",
    "        _, loss = sess.run([opt, loss_op], feed_dict={inputs:xor_x, label:xor_y})\n",
    "        if (step+1)%1000 == 0:\n",
    "            pred = sess.run(pred_op, feed_dict={inputs:xor_x, label:xor_y})\n",
    "            print(\"step\", step+1, \"loss:\", loss, \"gt:\", xor_y, \"predict:\", np.argmax(pred, axis=1))"
   ]
  },
  {
   "cell_type": "code",
   "execution_count": null,
   "metadata": {
    "collapsed": true
   },
   "outputs": [],
   "source": []
  }
 ],
 "metadata": {
  "kernelspec": {
   "display_name": "Python 3",
   "language": "python",
   "name": "python3"
  },
  "language_info": {
   "codemirror_mode": {
    "name": "ipython",
    "version": 3
   },
   "file_extension": ".py",
   "mimetype": "text/x-python",
   "name": "python",
   "nbconvert_exporter": "python",
   "pygments_lexer": "ipython3",
   "version": "3.5.0"
  }
 },
 "nbformat": 4,
 "nbformat_minor": 2
}
