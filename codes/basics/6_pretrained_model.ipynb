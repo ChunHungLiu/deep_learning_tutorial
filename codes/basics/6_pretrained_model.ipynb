{
 "cells": [
  {
   "cell_type": "markdown",
   "metadata": {},
   "source": [
    "## TF-Slim을 사용한 pre-trained model 사용법\n",
    "참고: https://github.com/tensorflow/tensorflow/tree/master/tensorflow/contrib/slim/python/slim/nets"
   ]
  },
  {
   "cell_type": "code",
   "execution_count": 1,
   "metadata": {
    "collapsed": true
   },
   "outputs": [],
   "source": [
    "import os\n",
    "import urllib.request\n",
    "import tarfile\n",
    "\n",
    "model_dir = \"model/\"\n",
    "vgg_tar_path  = \"model/vgg_19_2016_08_28.tar.gz\"\n",
    "vgg_url = \"http://download.tensorflow.org/models/vgg_19_2016_08_28.tar.gz\"\n",
    "\n",
    "resnet_url = \"http://download.tensorflow.org/models/resnet_v1_101_2016_08_28.tar.gz\"\n",
    "resnet_tar_path  = \"model/resnet_v1_101_2016_08_28.tar.gz\"\n",
    "\n",
    "if not os.path.exists(model_dir):\n",
    "    os.makedirs(model_dir)    \n",
    "\n",
    "model_path = os.path.join(model_dir, \"vgg_19.ckpt\")\n",
    "if not os.path.exists(model_path):\n",
    "    print(\"Downloading and extracting vgg-19 networks...\")\n",
    "    file_path, _ = urllib.request.urlretrieve(url=vgg_url, filename=vgg_tar_path)\n",
    "    tarfile.open(name=vgg_tar_path, mode=\"r:gz\").extractall(model_dir)\n",
    "    \n",
    "model_path = os.path.join(model_dir, \"resnet_v1_101.ckpt\")\n",
    "if not os.path.exists(model_path):\n",
    "    print(\"Downloading and extracting resnet-101 networks...\")\n",
    "    file_path, _ = urllib.request.urlretrieve(url=resnet_url, filename=resnet_tar_path)\n",
    "    tarfile.open(name=resnet_tar_path, mode=\"r:gz\").extractall(model_dir)"
   ]
  },
  {
   "cell_type": "code",
   "execution_count": 2,
   "metadata": {
    "collapsed": true
   },
   "outputs": [],
   "source": [
    "%matplotlib inline\n",
    "import numpy as np\n",
    "import scipy.misc as misc\n",
    "import matplotlib.pyplot as plt\n",
    "import tensorflow as tf\n",
    "import tensorflow.contrib.slim as slim\n",
    "import tensorflow.contrib.slim.nets as nets\n",
    "vgg = nets.vgg\n",
    "resnet = nets.resnet_v1"
   ]
  },
  {
   "cell_type": "code",
   "execution_count": 3,
   "metadata": {
    "collapsed": true
   },
   "outputs": [],
   "source": [
    "image_path = \"image.jpg\"\n",
    "\n",
    "mean_pixel = np.array([123.68, 116.779, 103.939]).reshape((1, 1, 1, 3))\n",
    "\n",
    "# load images\n",
    "image = misc.imread(image_path)\n",
    "image = misc.imresize(image, (224, 224))\n",
    "image = image.reshape(1, 224, 224, 3).astype(np.float32)\n",
    "image -= mean_pixel"
   ]
  },
  {
   "cell_type": "markdown",
   "metadata": {},
   "source": [
    "## VGG-19 모델에서 특징 추출"
   ]
  },
  {
   "cell_type": "code",
   "execution_count": 4,
   "metadata": {},
   "outputs": [
    {
     "name": "stdout",
     "output_type": "stream",
     "text": [
      "vgg_19/conv1/conv1_1 (?, 224, 224, 64)\n",
      "vgg_19/conv1/conv1_2 (?, 224, 224, 64)\n",
      "vgg_19/pool1 (?, 112, 112, 64)\n",
      "vgg_19/conv2/conv2_1 (?, 112, 112, 128)\n",
      "vgg_19/conv2/conv2_2 (?, 112, 112, 128)\n",
      "vgg_19/pool2 (?, 56, 56, 128)\n",
      "vgg_19/conv3/conv3_1 (?, 56, 56, 256)\n",
      "vgg_19/conv3/conv3_2 (?, 56, 56, 256)\n",
      "vgg_19/conv3/conv3_3 (?, 56, 56, 256)\n",
      "vgg_19/conv3/conv3_4 (?, 56, 56, 256)\n",
      "vgg_19/pool3 (?, 28, 28, 256)\n",
      "vgg_19/conv4/conv4_1 (?, 28, 28, 512)\n",
      "vgg_19/conv4/conv4_2 (?, 28, 28, 512)\n",
      "vgg_19/conv4/conv4_3 (?, 28, 28, 512)\n",
      "vgg_19/conv4/conv4_4 (?, 28, 28, 512)\n",
      "vgg_19/pool4 (?, 14, 14, 512)\n",
      "vgg_19/conv5/conv5_1 (?, 14, 14, 512)\n",
      "vgg_19/conv5/conv5_2 (?, 14, 14, 512)\n",
      "vgg_19/conv5/conv5_3 (?, 14, 14, 512)\n",
      "vgg_19/conv5/conv5_4 (?, 14, 14, 512)\n",
      "vgg_19/pool5 (?, 7, 7, 512)\n",
      "vgg_19/fc6 (?, 1, 1, 4096)\n",
      "vgg_19/fc7 (?, 1, 1, 4096)\n",
      "vgg_19/fc8 (?, 1000)\n",
      "INFO:tensorflow:Restoring parameters from model/vgg_19.ckpt\n"
     ]
    }
   ],
   "source": [
    "inputs = tf.placeholder(tf.float32, [None, 224, 224, 3])\n",
    "\n",
    "with slim.arg_scope(vgg.vgg_arg_scope()):\n",
    "    logit, model = vgg.vgg_19(inputs)\n",
    "    \n",
    "for k, v in model.items():\n",
    "    print(k, v.get_shape())\n",
    "    \n",
    "init_fn = slim.assign_from_checkpoint_fn(\"model/vgg_19.ckpt\",\n",
    "    slim.get_variables_to_restore(exclude=[\"vgg_19/fc8\"]),\n",
    "    ignore_missing_vars=True)\n",
    "\n",
    "sess_config = tf.ConfigProto(gpu_options=tf.GPUOptions(allow_growth=True))\n",
    "sess = tf.Session(config=sess_config)\n",
    "sess.run(tf.global_variables_initializer())\n",
    "init_fn(sess)"
   ]
  },
  {
   "cell_type": "code",
   "execution_count": 5,
   "metadata": {},
   "outputs": [
    {
     "name": "stdout",
     "output_type": "stream",
     "text": [
      "(4096,)\n"
     ]
    }
   ],
   "source": [
    "fc7 = sess.run(model[\"vgg_19/fc7\"], feed_dict={inputs:image})\n",
    "fc7 = np.squeeze(fc7)\n",
    "print(fc7.shape)"
   ]
  },
  {
   "cell_type": "code",
   "execution_count": 6,
   "metadata": {
    "collapsed": true
   },
   "outputs": [],
   "source": [
    "# 세션 닫기\n",
    "tf.reset_default_graph()\n",
    "sess.close()"
   ]
  },
  {
   "cell_type": "markdown",
   "metadata": {},
   "source": [
    "## ResNet-101 모델에서 특징 추출"
   ]
  },
  {
   "cell_type": "code",
   "execution_count": 7,
   "metadata": {},
   "outputs": [
    {
     "name": "stdout",
     "output_type": "stream",
     "text": [
      "resnet_v1_101/conv1 (?, 112, 112, 64)\n",
      "resnet_v1_101/block1/unit_1/bottleneck_v1/shortcut (?, 56, 56, 256)\n",
      "resnet_v1_101/block1/unit_1/bottleneck_v1/conv1 (?, 56, 56, 64)\n",
      "resnet_v1_101/block1/unit_1/bottleneck_v1/conv2 (?, 56, 56, 64)\n",
      "resnet_v1_101/block1/unit_1/bottleneck_v1/conv3 (?, 56, 56, 256)\n",
      "resnet_v1_101/block1/unit_1/bottleneck_v1 (?, 56, 56, 256)\n",
      "resnet_v1_101/block1/unit_2/bottleneck_v1/conv1 (?, 56, 56, 64)\n",
      "resnet_v1_101/block1/unit_2/bottleneck_v1/conv2 (?, 56, 56, 64)\n",
      "resnet_v1_101/block1/unit_2/bottleneck_v1/conv3 (?, 56, 56, 256)\n",
      "resnet_v1_101/block1/unit_2/bottleneck_v1 (?, 56, 56, 256)\n",
      "resnet_v1_101/block1/unit_3/bottleneck_v1/conv1 (?, 56, 56, 64)\n",
      "resnet_v1_101/block1/unit_3/bottleneck_v1/conv2 (?, 28, 28, 64)\n",
      "resnet_v1_101/block1/unit_3/bottleneck_v1/conv3 (?, 28, 28, 256)\n",
      "resnet_v1_101/block1/unit_3/bottleneck_v1 (?, 28, 28, 256)\n",
      "resnet_v1_101/block1 (?, 28, 28, 256)\n",
      "resnet_v1_101/block2/unit_1/bottleneck_v1/shortcut (?, 28, 28, 512)\n",
      "resnet_v1_101/block2/unit_1/bottleneck_v1/conv1 (?, 28, 28, 128)\n",
      "resnet_v1_101/block2/unit_1/bottleneck_v1/conv2 (?, 28, 28, 128)\n",
      "resnet_v1_101/block2/unit_1/bottleneck_v1/conv3 (?, 28, 28, 512)\n",
      "resnet_v1_101/block2/unit_1/bottleneck_v1 (?, 28, 28, 512)\n",
      "resnet_v1_101/block2/unit_2/bottleneck_v1/conv1 (?, 28, 28, 128)\n",
      "resnet_v1_101/block2/unit_2/bottleneck_v1/conv2 (?, 28, 28, 128)\n",
      "resnet_v1_101/block2/unit_2/bottleneck_v1/conv3 (?, 28, 28, 512)\n",
      "resnet_v1_101/block2/unit_2/bottleneck_v1 (?, 28, 28, 512)\n",
      "resnet_v1_101/block2/unit_3/bottleneck_v1/conv1 (?, 28, 28, 128)\n",
      "resnet_v1_101/block2/unit_3/bottleneck_v1/conv2 (?, 28, 28, 128)\n",
      "resnet_v1_101/block2/unit_3/bottleneck_v1/conv3 (?, 28, 28, 512)\n",
      "resnet_v1_101/block2/unit_3/bottleneck_v1 (?, 28, 28, 512)\n",
      "resnet_v1_101/block2/unit_4/bottleneck_v1/conv1 (?, 28, 28, 128)\n",
      "resnet_v1_101/block2/unit_4/bottleneck_v1/conv2 (?, 14, 14, 128)\n",
      "resnet_v1_101/block2/unit_4/bottleneck_v1/conv3 (?, 14, 14, 512)\n",
      "resnet_v1_101/block2/unit_4/bottleneck_v1 (?, 14, 14, 512)\n",
      "resnet_v1_101/block2 (?, 14, 14, 512)\n",
      "resnet_v1_101/block3/unit_1/bottleneck_v1/shortcut (?, 14, 14, 1024)\n",
      "resnet_v1_101/block3/unit_1/bottleneck_v1/conv1 (?, 14, 14, 256)\n",
      "resnet_v1_101/block3/unit_1/bottleneck_v1/conv2 (?, 14, 14, 256)\n",
      "resnet_v1_101/block3/unit_1/bottleneck_v1/conv3 (?, 14, 14, 1024)\n",
      "resnet_v1_101/block3/unit_1/bottleneck_v1 (?, 14, 14, 1024)\n",
      "resnet_v1_101/block3/unit_2/bottleneck_v1/conv1 (?, 14, 14, 256)\n",
      "resnet_v1_101/block3/unit_2/bottleneck_v1/conv2 (?, 14, 14, 256)\n",
      "resnet_v1_101/block3/unit_2/bottleneck_v1/conv3 (?, 14, 14, 1024)\n",
      "resnet_v1_101/block3/unit_2/bottleneck_v1 (?, 14, 14, 1024)\n",
      "resnet_v1_101/block3/unit_3/bottleneck_v1/conv1 (?, 14, 14, 256)\n",
      "resnet_v1_101/block3/unit_3/bottleneck_v1/conv2 (?, 14, 14, 256)\n",
      "resnet_v1_101/block3/unit_3/bottleneck_v1/conv3 (?, 14, 14, 1024)\n",
      "resnet_v1_101/block3/unit_3/bottleneck_v1 (?, 14, 14, 1024)\n",
      "resnet_v1_101/block3/unit_4/bottleneck_v1/conv1 (?, 14, 14, 256)\n",
      "resnet_v1_101/block3/unit_4/bottleneck_v1/conv2 (?, 14, 14, 256)\n",
      "resnet_v1_101/block3/unit_4/bottleneck_v1/conv3 (?, 14, 14, 1024)\n",
      "resnet_v1_101/block3/unit_4/bottleneck_v1 (?, 14, 14, 1024)\n",
      "resnet_v1_101/block3/unit_5/bottleneck_v1/conv1 (?, 14, 14, 256)\n",
      "resnet_v1_101/block3/unit_5/bottleneck_v1/conv2 (?, 14, 14, 256)\n",
      "resnet_v1_101/block3/unit_5/bottleneck_v1/conv3 (?, 14, 14, 1024)\n",
      "resnet_v1_101/block3/unit_5/bottleneck_v1 (?, 14, 14, 1024)\n",
      "resnet_v1_101/block3/unit_6/bottleneck_v1/conv1 (?, 14, 14, 256)\n",
      "resnet_v1_101/block3/unit_6/bottleneck_v1/conv2 (?, 14, 14, 256)\n",
      "resnet_v1_101/block3/unit_6/bottleneck_v1/conv3 (?, 14, 14, 1024)\n",
      "resnet_v1_101/block3/unit_6/bottleneck_v1 (?, 14, 14, 1024)\n",
      "resnet_v1_101/block3/unit_7/bottleneck_v1/conv1 (?, 14, 14, 256)\n",
      "resnet_v1_101/block3/unit_7/bottleneck_v1/conv2 (?, 14, 14, 256)\n",
      "resnet_v1_101/block3/unit_7/bottleneck_v1/conv3 (?, 14, 14, 1024)\n",
      "resnet_v1_101/block3/unit_7/bottleneck_v1 (?, 14, 14, 1024)\n",
      "resnet_v1_101/block3/unit_8/bottleneck_v1/conv1 (?, 14, 14, 256)\n",
      "resnet_v1_101/block3/unit_8/bottleneck_v1/conv2 (?, 14, 14, 256)\n",
      "resnet_v1_101/block3/unit_8/bottleneck_v1/conv3 (?, 14, 14, 1024)\n",
      "resnet_v1_101/block3/unit_8/bottleneck_v1 (?, 14, 14, 1024)\n",
      "resnet_v1_101/block3/unit_9/bottleneck_v1/conv1 (?, 14, 14, 256)\n",
      "resnet_v1_101/block3/unit_9/bottleneck_v1/conv2 (?, 14, 14, 256)\n",
      "resnet_v1_101/block3/unit_9/bottleneck_v1/conv3 (?, 14, 14, 1024)\n",
      "resnet_v1_101/block3/unit_9/bottleneck_v1 (?, 14, 14, 1024)\n",
      "resnet_v1_101/block3/unit_10/bottleneck_v1/conv1 (?, 14, 14, 256)\n",
      "resnet_v1_101/block3/unit_10/bottleneck_v1/conv2 (?, 14, 14, 256)\n",
      "resnet_v1_101/block3/unit_10/bottleneck_v1/conv3 (?, 14, 14, 1024)\n",
      "resnet_v1_101/block3/unit_10/bottleneck_v1 (?, 14, 14, 1024)\n",
      "resnet_v1_101/block3/unit_11/bottleneck_v1/conv1 (?, 14, 14, 256)\n",
      "resnet_v1_101/block3/unit_11/bottleneck_v1/conv2 (?, 14, 14, 256)\n",
      "resnet_v1_101/block3/unit_11/bottleneck_v1/conv3 (?, 14, 14, 1024)\n",
      "resnet_v1_101/block3/unit_11/bottleneck_v1 (?, 14, 14, 1024)\n",
      "resnet_v1_101/block3/unit_12/bottleneck_v1/conv1 (?, 14, 14, 256)\n",
      "resnet_v1_101/block3/unit_12/bottleneck_v1/conv2 (?, 14, 14, 256)\n",
      "resnet_v1_101/block3/unit_12/bottleneck_v1/conv3 (?, 14, 14, 1024)\n",
      "resnet_v1_101/block3/unit_12/bottleneck_v1 (?, 14, 14, 1024)\n",
      "resnet_v1_101/block3/unit_13/bottleneck_v1/conv1 (?, 14, 14, 256)\n",
      "resnet_v1_101/block3/unit_13/bottleneck_v1/conv2 (?, 14, 14, 256)\n",
      "resnet_v1_101/block3/unit_13/bottleneck_v1/conv3 (?, 14, 14, 1024)\n",
      "resnet_v1_101/block3/unit_13/bottleneck_v1 (?, 14, 14, 1024)\n",
      "resnet_v1_101/block3/unit_14/bottleneck_v1/conv1 (?, 14, 14, 256)\n",
      "resnet_v1_101/block3/unit_14/bottleneck_v1/conv2 (?, 14, 14, 256)\n",
      "resnet_v1_101/block3/unit_14/bottleneck_v1/conv3 (?, 14, 14, 1024)\n",
      "resnet_v1_101/block3/unit_14/bottleneck_v1 (?, 14, 14, 1024)\n",
      "resnet_v1_101/block3/unit_15/bottleneck_v1/conv1 (?, 14, 14, 256)\n",
      "resnet_v1_101/block3/unit_15/bottleneck_v1/conv2 (?, 14, 14, 256)\n",
      "resnet_v1_101/block3/unit_15/bottleneck_v1/conv3 (?, 14, 14, 1024)\n",
      "resnet_v1_101/block3/unit_15/bottleneck_v1 (?, 14, 14, 1024)\n",
      "resnet_v1_101/block3/unit_16/bottleneck_v1/conv1 (?, 14, 14, 256)\n",
      "resnet_v1_101/block3/unit_16/bottleneck_v1/conv2 (?, 14, 14, 256)\n",
      "resnet_v1_101/block3/unit_16/bottleneck_v1/conv3 (?, 14, 14, 1024)\n",
      "resnet_v1_101/block3/unit_16/bottleneck_v1 (?, 14, 14, 1024)\n",
      "resnet_v1_101/block3/unit_17/bottleneck_v1/conv1 (?, 14, 14, 256)\n",
      "resnet_v1_101/block3/unit_17/bottleneck_v1/conv2 (?, 14, 14, 256)\n",
      "resnet_v1_101/block3/unit_17/bottleneck_v1/conv3 (?, 14, 14, 1024)\n",
      "resnet_v1_101/block3/unit_17/bottleneck_v1 (?, 14, 14, 1024)\n",
      "resnet_v1_101/block3/unit_18/bottleneck_v1/conv1 (?, 14, 14, 256)\n",
      "resnet_v1_101/block3/unit_18/bottleneck_v1/conv2 (?, 14, 14, 256)\n",
      "resnet_v1_101/block3/unit_18/bottleneck_v1/conv3 (?, 14, 14, 1024)\n",
      "resnet_v1_101/block3/unit_18/bottleneck_v1 (?, 14, 14, 1024)\n",
      "resnet_v1_101/block3/unit_19/bottleneck_v1/conv1 (?, 14, 14, 256)\n",
      "resnet_v1_101/block3/unit_19/bottleneck_v1/conv2 (?, 14, 14, 256)\n",
      "resnet_v1_101/block3/unit_19/bottleneck_v1/conv3 (?, 14, 14, 1024)\n",
      "resnet_v1_101/block3/unit_19/bottleneck_v1 (?, 14, 14, 1024)\n",
      "resnet_v1_101/block3/unit_20/bottleneck_v1/conv1 (?, 14, 14, 256)\n",
      "resnet_v1_101/block3/unit_20/bottleneck_v1/conv2 (?, 14, 14, 256)\n",
      "resnet_v1_101/block3/unit_20/bottleneck_v1/conv3 (?, 14, 14, 1024)\n",
      "resnet_v1_101/block3/unit_20/bottleneck_v1 (?, 14, 14, 1024)\n",
      "resnet_v1_101/block3/unit_21/bottleneck_v1/conv1 (?, 14, 14, 256)\n",
      "resnet_v1_101/block3/unit_21/bottleneck_v1/conv2 (?, 14, 14, 256)\n",
      "resnet_v1_101/block3/unit_21/bottleneck_v1/conv3 (?, 14, 14, 1024)\n",
      "resnet_v1_101/block3/unit_21/bottleneck_v1 (?, 14, 14, 1024)\n",
      "resnet_v1_101/block3/unit_22/bottleneck_v1/conv1 (?, 14, 14, 256)\n",
      "resnet_v1_101/block3/unit_22/bottleneck_v1/conv2 (?, 14, 14, 256)\n",
      "resnet_v1_101/block3/unit_22/bottleneck_v1/conv3 (?, 14, 14, 1024)\n",
      "resnet_v1_101/block3/unit_22/bottleneck_v1 (?, 14, 14, 1024)\n",
      "resnet_v1_101/block3/unit_23/bottleneck_v1/conv1 (?, 14, 14, 256)\n",
      "resnet_v1_101/block3/unit_23/bottleneck_v1/conv2 (?, 7, 7, 256)\n",
      "resnet_v1_101/block3/unit_23/bottleneck_v1/conv3 (?, 7, 7, 1024)\n",
      "resnet_v1_101/block3/unit_23/bottleneck_v1 (?, 7, 7, 1024)\n",
      "resnet_v1_101/block3 (?, 7, 7, 1024)\n",
      "resnet_v1_101/block4/unit_1/bottleneck_v1/shortcut (?, 7, 7, 2048)\n",
      "resnet_v1_101/block4/unit_1/bottleneck_v1/conv1 (?, 7, 7, 512)\n",
      "resnet_v1_101/block4/unit_1/bottleneck_v1/conv2 (?, 7, 7, 512)\n",
      "resnet_v1_101/block4/unit_1/bottleneck_v1/conv3 (?, 7, 7, 2048)\n",
      "resnet_v1_101/block4/unit_1/bottleneck_v1 (?, 7, 7, 2048)\n",
      "resnet_v1_101/block4/unit_2/bottleneck_v1/conv1 (?, 7, 7, 512)\n",
      "resnet_v1_101/block4/unit_2/bottleneck_v1/conv2 (?, 7, 7, 512)\n",
      "resnet_v1_101/block4/unit_2/bottleneck_v1/conv3 (?, 7, 7, 2048)\n",
      "resnet_v1_101/block4/unit_2/bottleneck_v1 (?, 7, 7, 2048)\n",
      "resnet_v1_101/block4/unit_3/bottleneck_v1/conv1 (?, 7, 7, 512)\n",
      "resnet_v1_101/block4/unit_3/bottleneck_v1/conv2 (?, 7, 7, 512)\n",
      "resnet_v1_101/block4/unit_3/bottleneck_v1/conv3 (?, 7, 7, 2048)\n",
      "resnet_v1_101/block4/unit_3/bottleneck_v1 (?, 7, 7, 2048)\n",
      "resnet_v1_101/block4 (?, 7, 7, 2048)\n",
      "Tensor(\"resnet_v1_101/pool5:0\", shape=(?, 1, 1, 2048), dtype=float32)\n"
     ]
    },
    {
     "name": "stdout",
     "output_type": "stream",
     "text": [
      "INFO:tensorflow:Restoring parameters from model/resnet_v1_101.ckpt\n"
     ]
    }
   ],
   "source": [
    "inputs = tf.placeholder(tf.float32, [None, 224, 224, 3])\n",
    "\n",
    "with slim.arg_scope(resnet.resnet_arg_scope()):\n",
    "    net, model = resnet.resnet_v1_101(inputs)\n",
    "    \n",
    "for k, v in model.items():\n",
    "    print(k, v.get_shape())\n",
    "print(net)\n",
    "    \n",
    "init_fn = slim.assign_from_checkpoint_fn(\"model/resnet_v1_101.ckpt\",\n",
    "    slim.get_variables_to_restore(exclude=[\"resnet_v1_101/logits\"]),\n",
    "    ignore_missing_vars=True)\n",
    "\n",
    "sess_config = tf.ConfigProto(gpu_options=tf.GPUOptions(allow_growth=True))\n",
    "sess = tf.Session(config=sess_config)\n",
    "sess.run(tf.global_variables_initializer())\n",
    "init_fn(sess)"
   ]
  },
  {
   "cell_type": "code",
   "execution_count": 8,
   "metadata": {},
   "outputs": [
    {
     "name": "stdout",
     "output_type": "stream",
     "text": [
      "(2048,)\n"
     ]
    }
   ],
   "source": [
    "pool5 = sess.run(net, feed_dict={inputs:image})\n",
    "pool5 = np.squeeze(pool5)\n",
    "print(pool5.shape)"
   ]
  }
 ],
 "metadata": {
  "kernelspec": {
   "display_name": "Python 3",
   "language": "python",
   "name": "python3"
  },
  "language_info": {
   "codemirror_mode": {
    "name": "ipython",
    "version": 3
   },
   "file_extension": ".py",
   "mimetype": "text/x-python",
   "name": "python",
   "nbconvert_exporter": "python",
   "pygments_lexer": "ipython3",
   "version": "3.5.3"
  }
 },
 "nbformat": 4,
 "nbformat_minor": 2
}
