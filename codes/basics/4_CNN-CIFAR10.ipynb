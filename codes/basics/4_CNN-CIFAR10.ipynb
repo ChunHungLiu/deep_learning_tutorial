{
 "cells": [
  {
   "cell_type": "markdown",
   "metadata": {},
   "source": [
    "## CIFAR-10 분류 문제 실습"
   ]
  },
  {
   "cell_type": "code",
   "execution_count": null,
   "metadata": {},
   "outputs": [],
   "source": [
    "from functools import reduce\n",
    "import numpy as np\n",
    "import tensorflow as tf\n",
    "from tensorflow.contrib.layers import batch_norm\n",
    "from cifar_data import CIFAR10\n",
    "\n",
    "train_data = CIFAR10(is_train=True)\n",
    "test_data  = CIFAR10(is_train=False, shuffle=False)\n",
    "\n",
    "print(train_data.class_names)\n",
    "print(train_data.X.shape, train_data.y.shape)\n",
    "print(test_data.X.shape, test_data.y.shape)"
   ]
  },
  {
   "cell_type": "code",
   "execution_count": null,
   "metadata": {},
   "outputs": [],
   "source": [
    "# 샘플 출력 및 시각화\n",
    "%matplotlib inline\n",
    "import matplotlib.pyplot as plt\n",
    "\n",
    "plot_idx = np.random.randint(0, len(train_data.X), 32)\n",
    "\n",
    "plot_images = train_data.X[plot_idx]\n",
    "plot_labels = train_data.y[plot_idx]\n",
    "\n",
    "fig = plt.figure(figsize=(16, 10))\n",
    "for i, (img, label) in enumerate(zip(plot_images, plot_labels)):\n",
    "    a = fig.add_subplot(4, 8, i+1)\n",
    "    a.axis(\"off\")\n",
    "    a.set_title(train_data.class_names[label])\n",
    "    plt.imshow(img)"
   ]
  },
  {
   "cell_type": "code",
   "execution_count": null,
   "metadata": {
    "collapsed": true
   },
   "outputs": [],
   "source": [
    "import tensorflow.contrib.layers as layers\n",
    "he_init = layers.variance_scaling_initializer()\n",
    "\n",
    "learning_rate = 0.01\n",
    "\n",
    "inputs = tf.placeholder(tf.float32, [None, 32, 32, 3])\n",
    "label  = tf.placeholder(tf.int64, [None])\n",
    "is_training = tf.placeholder(tf.bool)\n",
    "\n",
    "def conv(inputs, num_filter, ksize, stride, padding, is_training, scope=None):\n",
    "    bottom_shape = inputs.get_shape().as_list()[3]\n",
    "    \n",
    "    with tf.variable_scope(scope):\n",
    "        W = tf.get_variable(\"W\", [ksize, ksize, bottom_shape, num_filter],\n",
    "                            initializer=he_init)\n",
    "        \n",
    "        x = tf.nn.conv2d(inputs, W, strides=[1, stride, stride, 1],\n",
    "                         padding=padding)\n",
    "        x = layers.batch_norm(x, is_training=is_training,\n",
    "                              decay=0.9, updates_collections=None)\n",
    "        x = tf.nn.relu(x)\n",
    "        \n",
    "    return x\n",
    "\n",
    "def maxpool(inputs, ksize, stride, padding, scope=None):\n",
    "    with tf.variable_scope(scope):\n",
    "        pool = tf.nn.max_pool(inputs, ksize=[1, ksize, ksize, 1],\n",
    "                              strides=[1, stride, stride, 1],\n",
    "                              padding=padding)\n",
    "    return pool\n",
    "    \n",
    "def fc(inputs, num_dims, scope=None):\n",
    "    bottom_shape = inputs.get_shape().as_list()\n",
    "    if len(bottom_shape) > 2:\n",
    "        inputs = tf.reshape(inputs,\n",
    "                            [-1, reduce(lambda x, y: x*y, bottom_shape[1:])])\n",
    "        bottom_shape = inputs.get_shape().as_list()\n",
    "        \n",
    "    with tf.variable_scope(scope):\n",
    "        W = tf.get_variable(\"W\", [bottom_shape[1], num_dims],\n",
    "                            initializer=he_init)\n",
    "        b = tf.get_variable(\"b\", [num_dims],\n",
    "                            initializer=tf.constant_initializer(0))\n",
    "        \n",
    "        out = tf.matmul(inputs, W) + b\n",
    "    return out\n",
    "        \n",
    "def fc_relu(inputs, num_dims, is_training, scope=None):\n",
    "    with tf.variable_scope(scope):\n",
    "        out = fc(inputs, num_dims, scope=\"fc\")\n",
    "        bn  = layers.batch_norm(out, is_training=is_training,\n",
    "                                decay=0.9, updates_collections=None)\n",
    "        relu = tf.nn.relu(bn)\n",
    "    return relu"
   ]
  },
  {
   "cell_type": "code",
   "execution_count": null,
   "metadata": {
    "collapsed": true
   },
   "outputs": [],
   "source": [
    "conv1 = conv(inputs, 32, ksize=3, stride=1, \n",
    "             padding=\"SAME\", is_training=is_training, scope=\"conv1\")\n",
    "conv1 = maxpool(conv1, ksize=2, stride=2, \n",
    "                padding=\"SAME\", scope=\"pool1\")\n",
    "\n",
    "conv2 = conv(conv1, 32, ksize=3, stride=1, \n",
    "             padding=\"SAME\", is_training=is_training, scope=\"conv2\")\n",
    "conv2 = maxpool(conv2, ksize=2, stride=2, \n",
    "                padding=\"SAME\", scope=\"pool2\")\n",
    "\n",
    "conv3 = conv(conv2, 32, ksize=3, stride=1, \n",
    "             padding=\"SAME\", is_training=is_training, scope=\"conv3\")\n",
    "conv3 = maxpool(conv3, ksize=2, stride=2, \n",
    "                padding=\"SAME\", scope=\"pool3\")\n",
    "\n",
    "fc1   = fc_relu(conv3, 128, is_training=is_training, scope=\"fc1\")\n",
    "logit = fc(fc1, 10, scope=\"logit\")"
   ]
  },
  {
   "cell_type": "code",
   "execution_count": null,
   "metadata": {},
   "outputs": [],
   "source": [
    "# 테스트 시 사용하는 연산 그래프 정의\n",
    "pred_op = tf.nn.softmax(logit)\n",
    "correct = tf.equal(label, tf.argmax(pred_op, 1))\n",
    "accuracy = tf.reduce_mean(tf.cast(correct, tf.float32))\n",
    "\n",
    "loss_op = tf.reduce_mean(tf.nn.sparse_softmax_cross_entropy_with_logits(labels=label, logits=logit))\n",
    "opt = tf.train.AdamOptimizer(learning_rate).minimize(loss_op)\n",
    "\n",
    "sess_config = tf.ConfigProto(gpu_options=tf.GPUOptions(allow_growth=True))\n",
    "sess = tf.Session(config=sess_config)\n",
    "sess.run(tf.global_variables_initializer())\n",
    "\n",
    "for step in range(100000):\n",
    "    batch_X, batch_y = train_data.next_batch(128)\n",
    "    _, loss = sess.run([opt, loss_op], feed_dict={inputs: batch_X, label:batch_y, is_training: True})\n",
    "    \n",
    "    if (step+1) % 5000 == 0:\n",
    "        print(step+1, loss)\n",
    "    \n",
    "acc_test = sess.run(accuracy,\n",
    "    feed_dict={inputs:test_data.X, label:test_data.y, is_training: False})\n",
    "print(\"step\", step+1, \"test_accuracy:\", acc_test)"
   ]
  },
  {
   "cell_type": "code",
   "execution_count": null,
   "metadata": {
    "collapsed": true
   },
   "outputs": [],
   "source": [
    "# 테스트 샘플 출력 및 시각화\n",
    "%matplotlib inline\n",
    "import matplotlib.pyplot as plt\n",
    "\n",
    "plot_idx = np.random.randint(0, len(test_data.X), 30)\n",
    "\n",
    "plot_images = test_data.X[plot_idx]\n",
    "plot_labels = test_data.y[plot_idx]\n",
    "\n",
    "plot_preds = sess.run(pred_op, feed_dict={inputs:plot_images, is_training:False})\n",
    "plot_preds = np.argmax(plot_preds, axis=1)\n",
    "\n",
    "fig = plt.figure(figsize=(16, 16))\n",
    "for i, (img, label, pred) in enumerate(zip(plot_images, plot_labels, plot_preds)):\n",
    "    a = fig.add_subplot(5, 6, i+1)\n",
    "    a.set_title(\"{} (gt: {})\".format(train_data.class_names[pred], train_data.class_names[label]))\n",
    "    a.axis(\"off\")\n",
    "    plt.imshow(img)"
   ]
  }
 ],
 "metadata": {
  "kernelspec": {
   "display_name": "Python 3",
   "language": "python",
   "name": "python3"
  },
  "language_info": {
   "codemirror_mode": {
    "name": "ipython",
    "version": 3
   },
   "file_extension": ".py",
   "mimetype": "text/x-python",
   "name": "python",
   "nbconvert_exporter": "python",
   "pygments_lexer": "ipython3",
   "version": "3.5.3"
  }
 },
 "nbformat": 4,
 "nbformat_minor": 2
}
