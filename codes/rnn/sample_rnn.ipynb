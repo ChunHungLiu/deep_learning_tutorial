{
 "cells": [
  {
   "cell_type": "code",
   "execution_count": 3,
   "metadata": {
    "collapsed": true
   },
   "outputs": [],
   "source": [
    "import numpy as np\n",
    "import tensorflow as tf\n",
    "import tensorflow.contrib.rnn as rnn\n",
    "import tensorflow.contrib.layers as layers\n",
    "from text_loader import TextLoader "
   ]
  },
  {
   "cell_type": "code",
   "execution_count": 4,
   "metadata": {
    "collapsed": true
   },
   "outputs": [],
   "source": [
    "num_layers  = 3\n",
    "hidden_size = 512\n",
    "batch_size  = 1\n",
    "max_length  = 1000\n",
    "\n",
    "loader = TextLoader(\"data/hamlet.txt\")\n",
    "vocab_size = len(loader.vocab)"
   ]
  },
  {
   "cell_type": "code",
   "execution_count": 5,
   "metadata": {
    "collapsed": true
   },
   "outputs": [],
   "source": [
    "X = tf.placeholder(tf.int32, [None, 1])\n",
    "x_one_hot = tf.one_hot(X, vocab_size)\n",
    "\n",
    "cells = [rnn.BasicLSTMCell(hidden_size) for _ in range(num_layers)]\n",
    "cells = rnn.MultiRNNCell(cells, state_is_tuple=True)\n",
    "\n",
    "initial_state = cells.zero_state(batch_size, tf.float32)\n",
    "outputs, states = tf.nn.dynamic_rnn(cells, x_one_hot, \n",
    "                                    initial_state=initial_state, dtype=tf.float32)\n",
    "\n",
    "outputs = tf.reshape(outputs, [-1, hidden_size])\n",
    "logits = layers.fully_connected(outputs, vocab_size,\n",
    "                                activation_fn=None)\n",
    "y_softmax = tf.nn.softmax(logits)\n",
    "pred = tf.argmax(y_softmax, axis=1)\n",
    "pred = tf.reshape(pred, [batch_size, -1])"
   ]
  },
  {
   "cell_type": "code",
   "execution_count": 25,
   "metadata": {},
   "outputs": [
    {
     "name": "stdout",
     "output_type": "stream",
     "text": [
      "Start with: <START>\tHAMLET\n",
      "\n",
      "\n",
      "INFO:tensorflow:Restoring parameters from checkpoints/char-rnn_10000\n",
      "<START>\tHAMLET\n",
      "\n",
      "ACT II\n",
      "\n",
      "\n",
      "\n",
      "SCENE I\tA room in the castle.\n",
      "\n",
      "\n",
      "\t[Enter KING CLAUDIUS, QUEEN GERTRUDE, POLONIUS,\n",
      "\tOPHELIA, ROSENCRANTZ, and GUILDENSTERN]\n",
      "\n",
      "\tHow now, my lord! I will the king hear this piece of work?\n",
      "\n",
      "LORD POLONIUS\tAnd the queen too, and that presently.\n",
      "\n",
      "HAMLET\tBid the players make haste.\n",
      "\n",
      "\t[Exit POLONIUS]\n",
      "\n",
      "\tHe tells me, my dear Gertrude, he hath founds: I have been is twice a child.\n",
      "\n",
      "HAMLET\tI will prophesy here,\n",
      "\tYou any the compuced and the chief head\n",
      "\tOf this his nephew's purpose,--to suppress\n",
      "\tHis further gait herein; in that the levies,\n",
      "\tThe lists and full proportions, are all made\n",
      "\tOut of his subject: and we here dispatch\n",
      "\tYou, good Cornelius, and you, Voltimand,\n",
      "\tFor bearers of this greeting to old Norway;\n",
      "\tGiving to you no further personal power\n",
      "\tTo business with the king, more than the scope\n",
      "\tOf these delated articles allow.\n",
      "\tFarewell, and let your haste commend your duty.\n",
      "\n",
      "\n",
      "CORNELIUS\t|\n",
      "\t|  In that and all things will we show our duty.\n",
      "VOLTIMAND\t|\n",
      "\n",
      "\n",
      "KING CLAUDIUS\tWe doubt it nothing:\n"
     ]
    }
   ],
   "source": [
    "sentence = list()\n",
    "# 시작 글자 생성\n",
    "sentence += loader.X[:10].tolist()\n",
    "print(\"Start with:\", \"\".join([loader.words[char] for char in sentence]))\n",
    "\n",
    "saver = tf.train.Saver()\n",
    "sess_config = tf.ConfigProto(gpu_options=tf.GPUOptions(allow_growth=True))\n",
    "with tf.Session(config=sess_config) as sess:\n",
    "    sess.run(tf.global_variables_initializer())\n",
    "    saver.restore(sess, \"checkpoints/char-rnn_10000\")\n",
    "    \n",
    "    # 매 이터레이션마다 글자 하나씩 생성\n",
    "    pred_char, state = sess.run([pred, states], feed_dict={X:[sentence[:]]})\n",
    "    for i in range(1000):\n",
    "        pred_char, state = sess.run([pred, states], \n",
    "            feed_dict={X:[[sentence[-1]]], initial_state: state}) # 이전 스텝에 갖고 있는 state 값을 다음 스텝에 넣어줌\n",
    "        sentence.append(pred_char[0][-1])\n",
    "        \n",
    "sentence = [loader.words[char] for char in sentence]\n",
    "print(\"\".join(sentence))"
   ]
  },
  {
   "cell_type": "code",
   "execution_count": null,
   "metadata": {
    "collapsed": true
   },
   "outputs": [],
   "source": []
  }
 ],
 "metadata": {
  "kernelspec": {
   "display_name": "Python 3",
   "language": "python",
   "name": "python3"
  },
  "language_info": {
   "codemirror_mode": {
    "name": "ipython",
    "version": 3
   },
   "file_extension": ".py",
   "mimetype": "text/x-python",
   "name": "python",
   "nbconvert_exporter": "python",
   "pygments_lexer": "ipython3",
   "version": "3.5.3"
  }
 },
 "nbformat": 4,
 "nbformat_minor": 2
}
