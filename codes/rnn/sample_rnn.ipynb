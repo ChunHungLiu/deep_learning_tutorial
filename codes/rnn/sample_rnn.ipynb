{
 "cells": [
  {
   "cell_type": "code",
   "execution_count": 1,
   "metadata": {
    "collapsed": true
   },
   "outputs": [],
   "source": [
    "import numpy as np\n",
    "import tensorflow as tf\n",
    "import tensorflow.contrib.rnn as rnn\n",
    "import tensorflow.contrib.layers as layers\n",
    "from text_loader import TextLoader "
   ]
  },
  {
   "cell_type": "code",
   "execution_count": 2,
   "metadata": {
    "collapsed": true
   },
   "outputs": [],
   "source": [
    "num_layers  = 3\n",
    "hidden_size = 512\n",
    "batch_size  = 1\n",
    "max_length  = 1000\n",
    "\n",
    "loader = TextLoader(\"data/hamlet.txt\")\n",
    "vocab_size = len(loader.vocab)"
   ]
  },
  {
   "cell_type": "code",
   "execution_count": 3,
   "metadata": {
    "collapsed": true
   },
   "outputs": [],
   "source": [
    "X = tf.placeholder(tf.int32, [None, None])\n",
    "x_one_hot = tf.one_hot(X, vocab_size)\n",
    "\n",
    "cells = [rnn.BasicLSTMCell(hidden_size) for _ in range(num_layers)]\n",
    "cells = rnn.MultiRNNCell(cells, state_is_tuple=True)\n",
    "\n",
    "initial_state = cells.zero_state(batch_size, tf.float32)\n",
    "outputs, states = tf.nn.dynamic_rnn(cells, x_one_hot, \n",
    "                                    initial_state=initial_state, dtype=tf.float32)\n",
    "\n",
    "outputs = tf.reshape(outputs, [-1, hidden_size])\n",
    "logits = layers.fully_connected(outputs, vocab_size,\n",
    "                                activation_fn=None)\n",
    "y_softmax = tf.nn.softmax(logits)\n",
    "pred = tf.argmax(y_softmax, axis=1)\n",
    "pred = tf.reshape(pred, [batch_size, -1])"
   ]
  },
  {
   "cell_type": "code",
   "execution_count": 4,
   "metadata": {},
   "outputs": [
    {
     "name": "stdout",
     "output_type": "stream",
     "text": [
      "Start with: <START>\tHAMLET\n",
      "\n",
      "\n",
      "INFO:tensorflow:Restoring parameters from checkpoints/char-rnn_30000\n",
      "<START>\tHAMLET\n",
      "\n",
      "ACT IV\n",
      "\n",
      "\n",
      "\n",
      "SCENE III\tAnother room in the castle.\n",
      "\n",
      "\n",
      "\t[Enter KING CLAUDIUS, QUEEN GERTRUDE, their trains, &c]\n",
      "\n",
      "\tThe queen, the courtiers: who is this they follow?\n",
      "\tAnd with such maimed rites? This doth betoken\n",
      "\tThe corse they follow did with desperate hand\n",
      "\tFordo its own life: 'twas of some estate.\n",
      "\tCouch we awhile, and mark.\n",
      "\n",
      "\t[Retiring with HORATIO]\n",
      "\n",
      "LAERTES\tWhat ceremony else?\n",
      "\n",
      "HAMLET\tThat is Laertes,\n",
      "\tA very noble youth: mark.\n",
      "\n",
      "LAERTES\tWhat ceremony else?\n",
      "\n",
      "HAMLET\tThat is Laertes,\n",
      "\tA very noble youth: mark.\n",
      "\n",
      "LAERTES\tWhat ceremony else?\n",
      "\n",
      "HAMLET\tThat is Laertes,\n",
      "\tA very noble youth: mark.\n",
      "\n",
      "LAERTES\tWhat ceremony else?\n",
      "\n",
      "HAMLET\tThat is Laertes,\n",
      "\tA very noble youth: mark.\n",
      "\n",
      "LAERTES\tWhat ceremony else?\n",
      "\n",
      "HAMLET\tThat is Laertes,\n",
      "\tA very noble youth: mark.\n",
      "\n",
      "LAERTES\tWhat ceremony else?\n",
      "\n",
      "HAMLET\tThat is Laertes,\n",
      "\tA very noble youth: mark.\n",
      "\n",
      "LAERTES\tWhat ceremony else?\n",
      "\n",
      "HAMLET\tThat is Laertes,\n",
      "\tA very noble youth: mark.\n",
      "\n",
      "LAERTES\tWhat ceremony else?\n",
      "\n",
      "HAMLET\tThat is Laertes,\n",
      "\tA very noble youth: mark.\n",
      "\n",
      "\n"
     ]
    }
   ],
   "source": [
    "sentence = list()\n",
    "# 시작 글자 생성\n",
    "sentence += loader.X[:10].tolist()\n",
    "print(\"Start with:\", \"\".join([loader.words[char] for char in sentence]))\n",
    "\n",
    "saver = tf.train.Saver()\n",
    "sess_config = tf.ConfigProto(gpu_options=tf.GPUOptions(allow_growth=True))\n",
    "with tf.Session(config=sess_config) as sess:\n",
    "    sess.run(tf.global_variables_initializer())\n",
    "    saver.restore(sess, \"checkpoints/char-rnn_30000\")\n",
    "    \n",
    "    # 매 이터레이션마다 글자 하나씩 생성\n",
    "    pred_char, state = sess.run([pred, states], feed_dict={X:[sentence[:]]})\n",
    "    for i in range(max_length):\n",
    "        # 이전 스텝에 갖고 있는 state 값을 다음 스텝에 넣어줌\n",
    "        pred_char, state = sess.run([pred, states], \n",
    "            feed_dict={X:[[sentence[-1]]], initial_state: state})\n",
    "        sentence.append(pred_char[0][-1])\n",
    "        \n",
    "sentence = [loader.words[char] for char in sentence]\n",
    "print(\"\".join(sentence))"
   ]
  }
 ],
 "metadata": {
  "kernelspec": {
   "display_name": "Python 3",
   "language": "python",
   "name": "python3"
  },
  "language_info": {
   "codemirror_mode": {
    "name": "ipython",
    "version": 3
   },
   "file_extension": ".py",
   "mimetype": "text/x-python",
   "name": "python",
   "nbconvert_exporter": "python",
   "pygments_lexer": "ipython3",
   "version": "3.5.3"
  }
 },
 "nbformat": 4,
 "nbformat_minor": 2
}
